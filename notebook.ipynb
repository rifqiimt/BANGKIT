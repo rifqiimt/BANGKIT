{
  "cells": [
    {
      "cell_type": "markdown",
      "metadata": {
        "id": "H9wADwK78DCz"
      },
      "source": [
        "# Proyek Analisis Data: Bike Sharing Dataset\n",
        "\n",
        "- **Nama:** Rifqi Mubarak Tampeng\n",
        "- **Email:** tampengrifqumubarak@gmail.com\n",
        "- **ID Dicoding:** rifqiimt"
      ]
    },
    {
      "cell_type": "markdown",
      "metadata": {
        "id": "eE0raob58DC0"
      },
      "source": [
        "## Menentukan Pertanyaan Bisnis"
      ]
    },
    {
      "cell_type": "markdown",
      "metadata": {
        "id": "GmQeQ5YF8DC0"
      },
      "source": [
        "- Pertanyaan 1 : Bagaimana tren penyewaan sepeda dari tahun ke tahun?\n",
        "- Pertanyaan 2 : Apakah ada perbedaan signifikan dalam jumlah penyewaan sepeda antara hari libur dan hari biasa?"
      ]
    },
    {
      "cell_type": "markdown",
      "metadata": {
        "id": "H-z4QGlO8DC1"
      },
      "source": [
        "## Import Semua Packages/Library yang Digunakan"
      ]
    },
    {
      "cell_type": "code",
      "execution_count": 1,
      "metadata": {
        "id": "FVYwaObI8DC1"
      },
      "outputs": [],
      "source": [
        "import pandas as pd\n",
        "import matplotlib.pyplot as plt\n",
        "import seaborn as sns\n",
        "import streamlit as st\n",
        "from babel.numbers import format_currency"
      ]
    },
    {
      "cell_type": "markdown",
      "metadata": {
        "id": "h_Sh51Xy8DC1"
      },
      "source": [
        "## Data Wrangling"
      ]
    },
    {
      "cell_type": "markdown",
      "metadata": {
        "id": "sXU2GBYu8DC1"
      },
      "source": [
        "### Gathering Data"
      ]
    },
    {
      "cell_type": "code",
      "execution_count": null,
      "metadata": {
        "id": "zjCBk1BI8DC1"
      },
      "outputs": [],
      "source": [
        "all_df = pd.read_csv(\"main_data.csv\")"
      ]
    },
    {
      "cell_type": "markdown",
      "metadata": {
        "id": "MMi6xGaDkbCi"
      },
      "source": [
        "**Insight:**\n",
        "- Data diimpor dari file CSV bernama \"main_data.csv\"\n",
        "- Perlu memeriksa struktur dan isi data untuk analisis lebih lanjut"
      ]
    },
    {
      "cell_type": "markdown",
      "metadata": {
        "id": "FHSiqaZp8DC1"
      },
      "source": [
        "### Assessing Data"
      ]
    },
    {
      "cell_type": "code",
      "execution_count": null,
      "metadata": {
        "id": "ax-3tEjc9Cj1"
      },
      "outputs": [],
      "source": [
        "# Memeriksa informasi dasar dataset\n",
        "print(all_df.info())\n",
        "\n",
        "# Memeriksa statistik deskriptif\n",
        "print(all_df.describe())\n",
        "\n",
        "# Memeriksa nilai yang hilang\n",
        "print(all_df.isnull().sum())"
      ]
    },
    {
      "cell_type": "markdown",
      "metadata": {
        "id": "7dtxhAPrkhPL"
      },
      "source": [
        "**Insight:**\n",
        "- Perlu memeriksa tipe data setiap kolom\n",
        "- Identifikasi potensi outlier atau nilai yang tidak masuk akal\n",
        "- Pastikan tidak ada nilai yang hilang dalam dataset"
      ]
    },
    {
      "cell_type": "markdown",
      "metadata": {
        "id": "EhN5R4hr8DC1"
      },
      "source": [
        "### Cleaning Data"
      ]
    },
    {
      "cell_type": "code",
      "execution_count": null,
      "metadata": {
        "id": "jVnYpprE9Evz"
      },
      "outputs": [],
      "source": [
        "# Mengubah kolom 'dteday' menjadi tipe datetime\n",
        "all_df[\"dteday\"] = pd.to_datetime(all_df[\"dteday\"])\n",
        "\n",
        "# Jika ada langkah pembersihan lain yang diperlukan, tambahkan di sini"
      ]
    },
    {
      "cell_type": "markdown",
      "metadata": {
        "id": "Q_5ejIqckiSP"
      },
      "source": [
        "**Insight:**\n",
        "- Kolom 'dteday' diubah menjadi tipe datetime untuk memudahkan analisis temporal\n",
        "- Tidak ada nilai yang hilang yang perlu ditangani\n",
        "- Perlu memastikan konsistensi nilai dalam kolom kategorikal seperti 'season' dan 'holiday'"
      ]
    },
    {
      "cell_type": "markdown",
      "metadata": {
        "id": "gp-Y6wU38DC1"
      },
      "source": [
        "## Exploratory Data Analysis (EDA)"
      ]
    },
    {
      "cell_type": "markdown",
      "metadata": {
        "id": "MW7WF2kr8DC1"
      },
      "source": [
        "### Explore Tren Penyewaan Tahunan"
      ]
    },
    {
      "cell_type": "code",
      "execution_count": null,
      "metadata": {
        "id": "e9CQCZjk8DC2"
      },
      "outputs": [],
      "source": [
        "def create_rentals_per_year_df(df):\n",
        "    rentals_per_year = df.groupby('yr')['cnt'].sum().reset_index()\n",
        "    return rentals_per_year\n",
        "\n",
        "rentals_per_year = create_rentals_per_year_df(all_df)\n",
        "print(rentals_per_year)"
      ]
    },
    {
      "cell_type": "markdown",
      "metadata": {
        "id": "th_Lzl2Fkj9O"
      },
      "source": [
        "**Insight:**\n",
        "- Analisis ini akan menunjukkan tren penyewaan sepeda dari tahun ke tahun\n",
        "- Perlu membandingkan jumlah penyewaan antara tahun-tahun yang berbeda"
      ]
    },
    {
      "cell_type": "markdown",
      "metadata": {
        "id": "k2-z3kOtUsEo"
      },
      "source": [
        "### Explore Perbedaan Hari Libur dan Hari Biasa"
      ]
    },
    {
      "cell_type": "code",
      "execution_count": null,
      "metadata": {
        "id": "ta2ySAzoUsEp"
      },
      "outputs": [],
      "source": [
        "def create_users_notholiday_and_holiday_df(df):\n",
        "    users_notholiday_and_holiday = df.holiday.value_counts()\n",
        "    return users_notholiday_and_holiday\n",
        "\n",
        "users_notholiday_and_holiday = create_users_notholiday_and_holiday_df(all_df)\n",
        "print(users_notholiday_and_holiday)"
      ]
    },
    {
      "cell_type": "markdown",
      "metadata": {
        "id": "sDHssPc4UsEp"
      },
      "source": [
        "**Insight:**\n",
        "- Analisis ini akan menunjukkan perbedaan jumlah penyewaan antara hari libur dan hari biasa\n",
        "- Perlu mempertimbangkan proporsi hari libur vs hari biasa dalam dataset"
      ]
    },
    {
      "cell_type": "markdown",
      "metadata": {
        "id": "zsyZjqak8DC2"
      },
      "source": [
        "## Visualization & Explanatory Analysis"
      ]
    },
    {
      "cell_type": "markdown",
      "metadata": {
        "id": "HZxOiQ6n8DC2"
      },
      "source": [
        "### Pertanyaan 1: Bagaimana tren penyewaan sepeda dari tahun ke tahun?"
      ]
    },
    {
      "cell_type": "code",
      "execution_count": null,
      "metadata": {
        "id": "1swJUdAD8DC2"
      },
      "outputs": [],
      "source": [
        "fig, ax = plt.subplots(figsize=(10, 5))\n",
        "sns.barplot(\n",
        "    x=\"yr\",\n",
        "    y=\"cnt\",\n",
        "    data=rentals_per_year,\n",
        "    ax=ax\n",
        ")\n",
        "\n",
        "plt.title(\"Number of Rentals per Year\", loc=\"center\", fontsize=15)\n",
        "plt.xlabel(\"Year\")\n",
        "plt.ylabel(\"Number of Rentals\")\n",
        "plt.gca().yaxis.set_major_formatter(plt.FuncFormatter(lambda x, loc: \"{:,}\".format(int(x))))\n",
        "plt.tick_params(axis='x', labelsize=12)\n",
        "plt.show()"
      ]
    },
    {
      "cell_type": "markdown",
      "metadata": {
        "id": "DgHI7CiU8DC2"
      },
      "source": [
        "### Pertanyaan 2: Apakah ada perbedaan signifikan dalam jumlah penyewaan sepeda antara hari libur dan hari biasa?"
      ]
    },
    {
      "cell_type": "code",
      "execution_count": null,
      "metadata": {
        "id": "Go0lCsvO8DC2"
      },
      "outputs": [],
      "source": [
        "fig, ax = plt.subplots(figsize=(10, 5))\n",
        "\n",
        "sns.barplot(\n",
        "    y=users_notholiday_and_holiday.values,\n",
        "    x=users_notholiday_and_holiday.index,\n",
        "    ax=ax\n",
        ")\n",
        "\n",
        "plt.title(\"Number of Users on Holiday and Not Holiday\", loc=\"center\", fontsize=15)\n",
        "plt.ylabel(\"Number of Users\")\n",
        "plt.xlabel(\"Holiday Status\")\n",
        "plt.tick_params(axis='x', labelsize=12)\n",
        "plt.show()"
      ]
    },
    {
      "cell_type": "markdown",
      "metadata": {
        "id": "_0-36BDLklRg"
      },
      "source": [
        "**Insight:**\n",
        "- Visualisasi membantu memperjelas pola dan tren dalam data\n",
        "- Perbandingan visual antara tahun dan status hari libur memberikan wawasan cepat tentang perbedaan dalam penyewaan sepeda"
      ]
    },
    {
      "cell_type": "markdown",
      "metadata": {
        "id": "9y4VUsmcYNZ5"
      },
      "source": [
        "## Analisis Lanjutan (Opsional)"
      ]
    },
    {
      "cell_type": "code",
      "execution_count": null,
      "metadata": {
        "id": "iWhnzsJGYUCO"
      },
      "outputs": [],
      "source": [
        "# Analisis pengaruh musim terhadap penyewaan sepeda\n",
        "def create_rentals_per_season_df(df):\n",
        "    rentals_per_season = df.groupby('season')['cnt'].sum()\n",
        "    return rentals_per_season\n",
        "\n",
        "rentals_per_season = create_rentals_per_season_df(all_df)\n",
        "\n",
        "fig, ax = plt.subplots(figsize=(10, 5))\n",
        "sns.barplot(\n",
        "    y=rentals_per_season.values,\n",
        "    x=rentals_per_season.index,\n",
        "    ax=ax\n",
        ")\n",
        "plt.title(\"Number of Rentals per Season\", loc=\"center\", fontsize=15)\n",
        "plt.ylabel(\"Number of Rentals\")\n",
        "plt.xlabel(\"Season\")\n",
        "plt.gca().yaxis.set_major_formatter(plt.FuncFormatter(lambda x, loc: \"{:,}\".format(int(x))))\n",
        "plt.tick_params(axis='x', labelsize=12)\n",
        "plt.show()"
      ]
    },
    {
      "cell_type": "markdown",
      "metadata": {
        "id": "_WeHlCeX8DC2"
      },
      "source": [
        "## Conclusion"
      ]
    },
    {
      "cell_type": "markdown",
      "metadata": {
        "id": "ZTcyR48Y8DC2"
      },
      "source": [
        "- Conclution pertanyaan 1\n",
        "\n",
        "  Berdasarkan analisis tren penyewaan sepeda dari tahun ke tahun, kita dapat menyimpulkan bahwa [masukkan kesimpulan berdasarkan hasil analisis].\n",
        "- Conclution pertanyaan 2\n",
        "\n",
        "  Mengenai perbedaan jumlah penyewaan sepeda antara hari libur dan hari biasa, hasil analisis menunjukkan bahwa [masukkan kesimpulan berdasarkan hasil analisis]."
      ]
    }
  ],
  "metadata": {
    "colab": {
      "provenance": []
    },
    "kernelspec": {
      "display_name": "Python 3",
      "language": "python",
      "name": "python3"
    },
    "language_info": {
      "codemirror_mode": {
        "name": "ipython",
        "version": 3
      },
      "file_extension": ".py",
      "mimetype": "text/x-python",
      "name": "python",
      "nbconvert_exporter": "python",
      "pygments_lexer": "ipython3",
      "version": "3.12.7"
    },
    "orig_nbformat": 4,
    "vscode": {
      "interpreter": {
        "hash": "972b3bf27e332e87b5379f2791f6ef9dfc79c71018c370b0d7423235e20fe4d7"
      }
    }
  },
  "nbformat": 4,
  "nbformat_minor": 0
}
